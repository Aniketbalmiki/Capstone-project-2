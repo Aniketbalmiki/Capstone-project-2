{
  "nbformat": 4,
  "nbformat_minor": 0,
  "metadata": {
    "colab": {
      "private_outputs": true,
      "provenance": [],
      "collapsed_sections": [
        "vncDsAP0Gaoa",
        "FJNUwmbgGyua",
        "w6K7xa23Elo4",
        "yQaldy8SH6Dl",
        "PH-0ReGfmX4f",
        "mDgbUHAGgjLW",
        "O_i_v8NEhb9l",
        "HhfV-JJviCcP",
        "Y3lxredqlCYt",
        "3RnN4peoiCZX",
        "x71ZqKXriCWQ",
        "7hBIi_osiCS2",
        "JlHwYmJAmNHm",
        "35m5QtbWiB9F",
        "PoPl-ycgm1ru",
        "H0kj-8xxnORC",
        "nA9Y7ga8ng1Z",
        "PBTbrJXOngz2",
        "u3PMJOP6ngxN",
        "dauF4eBmngu3",
        "bKJF3rekwFvQ",
        "MSa1f5Uengrz",
        "GF8Ens_Soomf",
        "0wOQAZs5pc--",
        "K5QZ13OEpz2H",
        "lQ7QKXXCp7Bj",
        "448CDAPjqfQr",
        "KSlN3yHqYklG",
        "t6dVpIINYklI",
        "ijmpgYnKYklI",
        "-JiQyfWJYklI",
        "EM7whBJCYoAo",
        "fge-S5ZAYoAp",
        "85gYPyotYoAp",
        "RoGjAbkUYoAp",
        "4Of9eVA-YrdM",
        "iky9q4vBYrdO",
        "F6T5p64dYrdO",
        "y-Ehk30pYrdP",
        "bamQiAODYuh1",
        "QHF8YVU7Yuh3",
        "GwzvFGzlYuh3",
        "qYpmQ266Yuh3",
        "OH-pJp9IphqM",
        "bbFf2-_FphqN",
        "_ouA3fa0phqN",
        "Seke61FWphqN",
        "PIIx-8_IphqN",
        "t27r6nlMphqO",
        "r2jJGEOYphqO",
        "b0JNsNcRphqO",
        "BZR9WyysphqO",
        "jj7wYXLtphqO",
        "eZrbJ2SmphqO",
        "rFu4xreNphqO",
        "YJ55k-q6phqO",
        "gCFgpxoyphqP",
        "OVtJsKN_phqQ",
        "lssrdh5qphqQ",
        "U2RJ9gkRphqQ",
        "1M8mcRywphqQ",
        "tgIPom80phqQ",
        "JMzcOPDDphqR",
        "x-EpHcCOp1ci",
        "X_VqEhTip1ck",
        "8zGJKyg5p1ck",
        "PVzmfK_Ep1ck",
        "n3dbpmDWp1ck",
        "ylSl6qgtp1ck",
        "ZWILFDl5p1ck",
        "M7G43BXep1ck",
        "Ag9LCva-p1cl",
        "E6MkPsBcp1cl",
        "2cELzS2fp1cl",
        "3MPXvC8up1cl",
        "NC_X3p0fY2L0",
        "UV0SzAkaZNRQ",
        "YPEH6qLeZNRQ",
        "q29F0dvdveiT",
        "EXh0U9oCveiU",
        "22aHeOlLveiV",
        "JcMwzZxoAimU",
        "8G2x9gOozGDZ",
        "gCX9965dhzqZ",
        "gIfDvo9L0UH2"
      ],
      "include_colab_link": true
    },
    "kernelspec": {
      "name": "python3",
      "display_name": "Python 3"
    },
    "language_info": {
      "name": "python"
    }
  },
  "cells": [
    {
      "cell_type": "markdown",
      "metadata": {
        "id": "view-in-github",
        "colab_type": "text"
      },
      "source": [
        "<a href=\"https://colab.research.google.com/github/Aniketbalmiki/Capstone-project-2/blob/main/Capstone_Project_2.ipynb\" target=\"_parent\"><img src=\"https://colab.research.google.com/assets/colab-badge.svg\" alt=\"Open In Colab\"/></a>"
      ]
    },
    {
      "cell_type": "code",
      "source": [],
      "metadata": {
        "id": "I1apcow5dxii"
      },
      "execution_count": null,
      "outputs": []
    },
    {
      "cell_type": "markdown",
      "source": [
        "# **Project Name**    - Booking.com - Hotel Booking Analysis\n",
        "\n"
      ],
      "metadata": {
        "id": "vncDsAP0Gaoa"
      }
    },
    {
      "cell_type": "markdown",
      "source": [
        "##### **Project Type**    - EDA\n",
        "##### **Contribution**    - Individual"
      ],
      "metadata": {
        "id": "beRrZCGUAJYm"
      }
    },
    {
      "cell_type": "markdown",
      "source": [
        "# **Project Summary -**"
      ],
      "metadata": {
        "id": "FJNUwmbgGyua"
      }
    },
    {
      "cell_type": "markdown",
      "source": [
        "The project aims to conduct an exploratory data aniysis(EDA) on a hotel bookings dataset this dataset includes information on bookings at two hotels over a specific period detailing guest profies, booking details hotel specifics and informaticn on cancellations and no-shows.\n",
        "\n",
        "\n",
        "The EDA will seek to provied insights and answer the following questions:\n",
        "\n",
        "which type of hotel is most perfrecced by guests?How does lead time for booking very across difirent arrival years. and what are the associated cancellation trends? which country has  the highest number of guests?what is the distnibution of perfermed meal types among hotel guests?what is the relatisonship between the average daily rate (ADR) and the hotel number of people? which year recorded the higest number of bookings? which distibutin channel contribuess most to ADR thus incereasing income? How does ADR very acrcss diffrent months? which distnibusotion of market segments and distnibutoin channels in the hotel booking? How are guests with babies distributed across difrent hotel types.and what are their booking cancellatoin rates? what is the distribution  of hotel arrivals by year and month? the EDA process will begin with data cleaning to addres any missing or erroneous data follwing this. the data will be explored using a varinty of visuallzations. such as scatter plots. histograms to identilfy patterns and relatinonship."
      ],
      "metadata": {
        "id": "F6v_1wHtG2nS"
      }
    },
    {
      "cell_type": "markdown",
      "source": [
        "# **GitHub Link -**"
      ],
      "metadata": {
        "id": "w6K7xa23Elo4"
      }
    },
    {
      "cell_type": "markdown",
      "source": [
        "https://github.com/Aniketbalmiki/Capstone-project-2"
      ],
      "metadata": {
        "id": "1n8UNTDiA42C"
      }
    },
    {
      "cell_type": "markdown",
      "source": [
        "# **Problem Statement**\n"
      ],
      "metadata": {
        "id": "yQaldy8SH6Dl"
      }
    },
    {
      "cell_type": "markdown",
      "source": [
        "Have you ever wondered when the best time of year to book a hotel room is? Or the optimal length of stay in order to get the best daily rate?What if you wanted to predict whether or not a hotel was likely to receive a disproportionately high number of special request? This hotel booking dataset can help you explore those questions! This data set contains booking information for a city hotel and a resort hotel, and includes information such as when the booking was made, length of stay, the number of adults, children, and/or babies, and the number of availble parking spaces, among other things.All personally identifying infomation has been removed from the data. Explore and analyse the data to discover important factors that govern the bookings."
      ],
      "metadata": {
        "id": "DpeJGUA3kjGy"
      }
    },
    {
      "cell_type": "markdown",
      "source": [
        "#### **Define Your Business Objective?**"
      ],
      "metadata": {
        "id": "PH-0ReGfmX4f"
      }
    },
    {
      "cell_type": "markdown",
      "source": [
        "Business objctive is to understand and visualize dataset from hotel and customer point of view.\n",
        "1.   Reasons for booking cancellations.\n",
        "2.   Best time to book hotel.\n",
        "3.   Peak seasons.\n",
        "4.   Suggestions to reduce cancellations.\n",
        "5.   Increase revenue of hotels.\n",
        "\n",
        "\n",
        "\n"
      ],
      "metadata": {
        "id": "G45XhZ39wIJV"
      }
    },
    {
      "cell_type": "markdown",
      "source": [
        "# **General Guidelines** : -  "
      ],
      "metadata": {
        "id": "mDgbUHAGgjLW"
      }
    },
    {
      "cell_type": "markdown",
      "source": [
        "1.   Well-structured, formatted, and commented code is required.\n",
        "2.   Exception Handling, Production Grade Code & Deployment Ready Code will be a plus. Those students will be awarded some additional credits.\n",
        "     \n",
        "     The additional credits will have advantages over other students during Star Student selection.\n",
        "       \n",
        "             [ Note: - Deployment Ready Code is defined as, the whole .ipynb notebook should be executable in one go\n",
        "                       without a single error logged. ]\n",
        "\n",
        "3.   Each and every logic should have proper comments.\n",
        "4. You may add as many number of charts you want. Make Sure for each and every chart the following format should be answered.\n",
        "        \n",
        "\n",
        "```\n",
        "# Chart visualization code\n",
        "```\n",
        "            \n",
        "\n",
        "*   Why did you pick the specific chart?\n",
        "*   What is/are the insight(s) found from the chart?\n",
        "* Will the gained insights help creating a positive business impact?\n",
        "Are there any insights that lead to negative growth? Justify with specific reason.\n",
        "\n",
        "5. You have to create at least 20 logical & meaningful charts having important insights.\n",
        "\n",
        "\n",
        "[ Hints : - Do the Vizualization in  a structured way while following \"UBM\" Rule.\n",
        "\n",
        "U - Univariate Analysis,\n",
        "\n",
        "B - Bivariate Analysis (Numerical - Categorical, Numerical - Numerical, Categorical - Categorical)\n",
        "\n",
        "M - Multivariate Analysis\n",
        " ]\n",
        "\n",
        "\n",
        "\n"
      ],
      "metadata": {
        "id": "ZrxVaUj-hHfC"
      }
    },
    {
      "cell_type": "markdown",
      "source": [
        "# ***Let's Begin !***"
      ],
      "metadata": {
        "id": "O_i_v8NEhb9l"
      }
    },
    {
      "cell_type": "markdown",
      "source": [
        "## ***1. Know Your Data***"
      ],
      "metadata": {
        "id": "HhfV-JJviCcP"
      }
    },
    {
      "cell_type": "markdown",
      "source": [
        "### Import Libraries"
      ],
      "metadata": {
        "id": "Y3lxredqlCYt"
      }
    },
    {
      "cell_type": "code",
      "source": [
        "# Import Libraries\n",
        "\n",
        "import numpy as np\n",
        "import pandas as pd\n",
        "import matplotlib.pyplot as plt\n",
        "import seaborn as sns\n",
        "\n",
        "\n"
      ],
      "metadata": {
        "id": "M8Vqi-pPk-HR"
      },
      "execution_count": null,
      "outputs": []
    },
    {
      "cell_type": "markdown",
      "source": [
        "### Dataset Loading"
      ],
      "metadata": {
        "id": "3RnN4peoiCZX"
      }
    },
    {
      "cell_type": "code",
      "source": [
        "# Load Dataset\n",
        "\n"
      ],
      "metadata": {
        "id": "4CkvbW_SlZ_R"
      },
      "execution_count": null,
      "outputs": []
    },
    {
      "cell_type": "code",
      "source": [
        "from google.colab import drive\n",
        "drive.mount('/content/drive')"
      ],
      "metadata": {
        "id": "rI7YW1PQV4jd"
      },
      "execution_count": null,
      "outputs": []
    },
    {
      "cell_type": "code",
      "source": [
        "file_path=\"/content/drive/MyDrive/Copy of Hotel Bookings.csv\"\n",
        "hotel_booking=pd.read_csv(\"/content/drive/MyDrive/Copy of Hotel Bookings.csv\")"
      ],
      "metadata": {
        "id": "dNhZLvhcW0Gb"
      },
      "execution_count": null,
      "outputs": []
    },
    {
      "cell_type": "markdown",
      "source": [
        "### Dataset First View"
      ],
      "metadata": {
        "id": "x71ZqKXriCWQ"
      }
    },
    {
      "cell_type": "code",
      "source": [
        "# Dataset First Look\n",
        "\n",
        "hotel_booking.head()"
      ],
      "metadata": {
        "id": "LWNFOSvLl09H"
      },
      "execution_count": null,
      "outputs": []
    },
    {
      "cell_type": "code",
      "source": [
        "hotel_booking.tail()"
      ],
      "metadata": {
        "id": "moRIxHvA3tW6"
      },
      "execution_count": null,
      "outputs": []
    },
    {
      "cell_type": "markdown",
      "source": [
        "### Dataset Rows & Columns count"
      ],
      "metadata": {
        "id": "7hBIi_osiCS2"
      }
    },
    {
      "cell_type": "code",
      "source": [
        "# Dataset Rows & Columns count\n",
        "\n",
        "print(f\"Total numbers of rows : {hotel_booking.shape[0]} \\nTotal numbers of columns : {hotel_booking.shape[1]}\")"
      ],
      "metadata": {
        "id": "Kllu7SJgmLij"
      },
      "execution_count": null,
      "outputs": []
    },
    {
      "cell_type": "markdown",
      "source": [
        "### Dataset Information"
      ],
      "metadata": {
        "id": "JlHwYmJAmNHm"
      }
    },
    {
      "cell_type": "code",
      "source": [
        "# Dataset Info\n",
        "\n",
        "hotel_booking.info()"
      ],
      "metadata": {
        "id": "e9hRXRi6meOf"
      },
      "execution_count": null,
      "outputs": []
    },
    {
      "cell_type": "markdown",
      "source": [
        "#### Duplicate Values"
      ],
      "metadata": {
        "id": "35m5QtbWiB9F"
      }
    },
    {
      "cell_type": "code",
      "source": [
        "# Dataset Duplicate Value Count\n",
        "\n",
        "duplicates =[hotel_booking.duplicated().sum()]\n",
        "\n",
        "# Display the duplicated rows\n",
        "print(\"Duplicated rows based on all columns:\")\n",
        "print(duplicates)"
      ],
      "metadata": {
        "id": "1sLdpKYkmox0"
      },
      "execution_count": null,
      "outputs": []
    },
    {
      "cell_type": "markdown",
      "source": [
        "#### Missing Values/Null Values"
      ],
      "metadata": {
        "id": "PoPl-ycgm1ru"
      }
    },
    {
      "cell_type": "code",
      "source": [
        "# Missing Values/Null Values Count\n",
        "\n",
        "# Count missing values in each column\n",
        "missing_values = hotel_booking.isnull().sum().sort_values(ascending=False)\n",
        "\n",
        "# Display the count of missing values in each column\n",
        "print(\"Missing Values/Null Values Count:\")\n",
        "print(missing_values[missing_values>0])\n",
        "\n"
      ],
      "metadata": {
        "id": "GgHWkxvamxVg"
      },
      "execution_count": null,
      "outputs": []
    },
    {
      "cell_type": "code",
      "source": [
        "# Visualizing the missing values\n",
        "\n",
        "import missingno as msno\n",
        "import matplotlib.pyplot as plt\n",
        "\n",
        "# Visualize missing values\n",
        "msno.matrix(hotel_booking)\n",
        "plt.show()"
      ],
      "metadata": {
        "id": "3q5wnI3om9sJ"
      },
      "execution_count": null,
      "outputs": []
    },
    {
      "cell_type": "markdown",
      "source": [
        "### What did you know about your dataset?"
      ],
      "metadata": {
        "id": "H0kj-8xxnORC"
      }
    },
    {
      "cell_type": "markdown",
      "source": [
        "This data set contains a single file which compares various booking information between two hotels : a city hotel and a resort hotel. It includes information such as when the booking was made,length of stay,the number of adults,children,and/or babies,and the number of available parking spaces,among other things.The dataset contains a total of 119390 rows and 32 columns. Dataset contains duplicated items i.e 31944 which is removed later. Also it have null value in company ,agent,country,children columns. Company has extremly large number of null calues as compared to other columns."
      ],
      "metadata": {
        "id": "gfoNAAC-nUe_"
      }
    },
    {
      "cell_type": "markdown",
      "source": [
        "## ***2. Understanding Your Variables***"
      ],
      "metadata": {
        "id": "nA9Y7ga8ng1Z"
      }
    },
    {
      "cell_type": "code",
      "source": [
        "# Dataset Columns\n",
        "\n",
        "list(hotel_booking.columns)"
      ],
      "metadata": {
        "id": "j7xfkqrt5Ag5"
      },
      "execution_count": null,
      "outputs": []
    },
    {
      "cell_type": "code",
      "source": [
        "# Dataset Describe\n",
        "\n",
        "hotel_booking.describe()"
      ],
      "metadata": {
        "id": "DnOaZdaE5Q5t"
      },
      "execution_count": null,
      "outputs": []
    },
    {
      "cell_type": "markdown",
      "source": [
        "### Variables Description"
      ],
      "metadata": {
        "id": "PBTbrJXOngz2"
      }
    },
    {
      "cell_type": "markdown",
      "source": [
        "**The columns and the data they represent are listed below:**\n",
        "\n",
        "1.   **Hotel:**Name of the hotel(Resort Hotel or City Hotel)\n",
        "2.   **is_canceled:**If the booking was canceled (1) or not (0)\n",
        "3.   **lead_time:**Number of days before the actual arrival of the guests\n",
        "4.   **arrival_data_year:**Year of arrival date\n",
        "5.   **arrival_date_month:**Month of month arrival date\n",
        "6.   **arrival_date_week_number:**Week number of year for arrival date\n",
        "7.   **arrival_date_day_of_month:**Day of arrival date\n",
        "8.  **stays_in_weekend_nights:**Number of weekend nights(saturday or sunday) spent at the hotel by the guests.\n",
        "9.   **stays_in_week_nights:**Number of weeknights (Monday to Friday) spent at the hotel by the guests.\n",
        "10. **adults:**Number of adults among guests\n",
        "11.  **children:**Number of children among guests\n",
        "12.  **babies:**Number of babies among guests\n",
        "13. **Meal:**Type of meal booked\n",
        "14.  **country:**Country of guests\n",
        "15.  **market_segment:**Designation of market segment\n",
        "16.  **distribution_channel:**Name of booking distribution channel\n",
        "17.  **is_repeated_guests:**If the booking was from a repeated guests (1) or not (0)\n",
        "18.  **previous_cancellations:**Number of previous bookings that were cancelled by the customer prior to the current booking\n",
        "19.  **previous_booking_not_canceled:**Number of previous booking not canceled by the customer prior to the current booking\n",
        "20.  **reserved_room_type:**Code of room type reserved\n",
        "21.  **assigned_room_type:**Code of room type assigned\n",
        "22.  **booking_changes:**Number of changes/amendments made to the booking\n",
        "23.  **deposit_type:**Type of the deposit made by the guest\n",
        "24.  **agent:**Id of travel agent who made the booking\n",
        "25.  **company:**Id of the company that made the booking\n",
        "26.  **days_in_waiting_list:**Number of days the bookingwas in the waiting list\n",
        "27.  **customer_type:**Type of customer,assuming one of four categories\n",
        "28.  **adr:**Average daily rate,as defined by dividing the sum of all lodging transactions by the total number of staying nights\n",
        "29.  **required_car_parking_spaces:**Number of car parking spaces required by the customer\n",
        "30.  **total_of_special_requests:**Number of special requests made by the customer\n",
        "31.  **reservation_status:** Reservation status (Canceled,Check-Out or No-Show)\n",
        "32.  **reservation_status_date:**Date at which the last reservation status was updated\n",
        "\n",
        "\n",
        "\n"
      ],
      "metadata": {
        "id": "aJV4KIxSnxay"
      }
    },
    {
      "cell_type": "markdown",
      "source": [
        "### Check Unique Values for each variable."
      ],
      "metadata": {
        "id": "u3PMJOP6ngxN"
      }
    },
    {
      "cell_type": "code",
      "source": [
        "\n",
        "# Check Unique Values for each variable.\n",
        "\n",
        "print(hotel_booking.apply(lambda coloumn:coloumn.unique()))"
      ],
      "metadata": {
        "id": "zms12Yq5n-jE"
      },
      "execution_count": null,
      "outputs": []
    },
    {
      "cell_type": "markdown",
      "source": [
        "## 3. ***Data Wrangling***"
      ],
      "metadata": {
        "id": "dauF4eBmngu3"
      }
    },
    {
      "cell_type": "markdown",
      "source": [
        "### Data Wrangling Code"
      ],
      "metadata": {
        "id": "bKJF3rekwFvQ"
      }
    },
    {
      "cell_type": "markdown",
      "source": [
        "Dropping Duplicates"
      ],
      "metadata": {
        "id": "RIMl_FXkqA0J"
      }
    },
    {
      "cell_type": "code",
      "source": [
        "#Dropping the duplicate values\n",
        "\n",
        "hotel_booking.drop_duplicates(inplace=True)"
      ],
      "metadata": {
        "id": "wk-9a2fpoLcV"
      },
      "execution_count": null,
      "outputs": []
    },
    {
      "cell_type": "code",
      "source": [
        "#after removing duplicate , count of total rows\n",
        "\n",
        "print(f\"After duplicates , number of rows are : {hotel_booking.shape[0]}\")"
      ],
      "metadata": {
        "id": "43WcP_YeosgQ"
      },
      "execution_count": null,
      "outputs": []
    },
    {
      "cell_type": "markdown",
      "source": [
        "Relacing null values"
      ],
      "metadata": {
        "id": "QOrxXvy-qK4Q"
      }
    },
    {
      "cell_type": "code",
      "source": [
        "#dropping the company columns as it has highest null values\n",
        "\n",
        "hotel_booking.drop([\"company\"],axis=1,inplace=True)\n",
        "\n"
      ],
      "metadata": {
        "id": "tO1xmE_tpEVg"
      },
      "execution_count": null,
      "outputs": []
    },
    {
      "cell_type": "code",
      "source": [
        "#replacing null values in children column with 0 as there are only 4 missing values,assumig that family had 0 children\n",
        "#replacing null values in agent column with 0 assuming those rooms were bokked without company/agent\n",
        "\n",
        "hotel_booking[[\"children\",\"agent\"]]=hotel_booking[[\"children\",\"agent\"]].fillna(0)"
      ],
      "metadata": {
        "id": "4eAHP2rPsU4P"
      },
      "execution_count": null,
      "outputs": []
    },
    {
      "cell_type": "code",
      "source": [
        "#replacing null values in country column as \"others\" assuming that user didn't found their country name\n",
        "\n",
        "hotel_booking[\"country\"].fillna(\"others\",inplace=True)"
      ],
      "metadata": {
        "id": "-oNXADJSsoWe"
      },
      "execution_count": null,
      "outputs": []
    },
    {
      "cell_type": "code",
      "source": [
        "#checking that now there are no null values\n",
        "\n",
        "hotel_booking.isna().sum().sort_values(ascending=False)"
      ],
      "metadata": {
        "id": "b7avTt0zv9Lt"
      },
      "execution_count": null,
      "outputs": []
    },
    {
      "cell_type": "code",
      "source": [
        "#There are some rows with total number of adults,children or babies equal to zero\n",
        "#This means there is no any booking were made\n",
        "#So we can remove such rows"
      ],
      "metadata": {
        "id": "nE7u33ctdD_6"
      },
      "execution_count": null,
      "outputs": []
    },
    {
      "cell_type": "code",
      "source": [
        "hotel_booking.drop(hotel_booking[hotel_booking[\"adults\"]+hotel_booking[\"babies\"]+hotel_booking[\"children\"]==0].index,inplace=True)"
      ],
      "metadata": {
        "id": "Y-JGNZ63epCo"
      },
      "execution_count": null,
      "outputs": []
    },
    {
      "cell_type": "code",
      "source": [
        "#Number of rows having with 0 in adult babies and children coloumn\n",
        "\n",
        "zero_entry=hotel_booking[hotel_booking[\"adults\"]+hotel_booking[\"babies\"]+hotel_booking[\"children\"]==0].shape[0]\n",
        "print(f\"There are {zero_entry} rows which has zero value\")"
      ],
      "metadata": {
        "id": "a9HpNd7rgu5l"
      },
      "execution_count": null,
      "outputs": []
    },
    {
      "cell_type": "markdown",
      "source": [
        "Changing data type"
      ],
      "metadata": {
        "id": "Gqx5V0rzhgPe"
      }
    },
    {
      "cell_type": "code",
      "source": [
        "#Showing the info of the data to check datatype\n",
        "\n",
        "hotel_booking.info()"
      ],
      "metadata": {
        "id": "6tRHd-3Zhk5b"
      },
      "execution_count": null,
      "outputs": []
    },
    {
      "cell_type": "code",
      "source": [
        "#We have seen that children & agent column as datatype as float whereas it conatins only int value,so change datatype as int64\n",
        "hotel_booking[[\"children\",\"agent\"]]=hotel_booking[[\"children\",\"agent\"]].astype(\"int64\")"
      ],
      "metadata": {
        "id": "HmCduaCdiK4E"
      },
      "execution_count": null,
      "outputs": []
    },
    {
      "cell_type": "code",
      "source": [
        "#For our understanding,in column \"is_canceled\" we will replace the value from (0,1) to not_canceled , is canceled.\n",
        "\n",
        "hotel_booking[\"is_canceled\"]=hotel_booking[\"is_canceled\"].replace([0,1],[\"Not canceled\",\"Is canceled\"])"
      ],
      "metadata": {
        "id": "gTn7g6nqj0Fj"
      },
      "execution_count": null,
      "outputs": []
    },
    {
      "cell_type": "code",
      "source": [
        "#Same for \"is_repeated_guest\" column\n",
        "\n",
        "hotel_booking[\"is_repeated_guest\"]=hotel_booking[\"is_repeated_guest\"].replace([0,1],[\"Not repeated\",\"Repated\"])"
      ],
      "metadata": {
        "id": "ZpxI_LCBlAwu"
      },
      "execution_count": null,
      "outputs": []
    },
    {
      "cell_type": "markdown",
      "source": [
        "Addition of new columns"
      ],
      "metadata": {
        "id": "kavJCw5slh75"
      }
    },
    {
      "cell_type": "code",
      "source": [
        "#Total stay in nights\n",
        "#We have created a col for total stays in nights by adding week night & weekend nights stay col.\n",
        "\n",
        "\n",
        "hotel_booking[\"total_stay_in_nights\"]=hotel_booking[\"stays_in_week_nights\"]+hotel_booking[\"stays_in_weekend_nights\"]"
      ],
      "metadata": {
        "id": "4i80h2HFll5t"
      },
      "execution_count": null,
      "outputs": []
    },
    {
      "cell_type": "code",
      "source": [
        "#We have created a col for revenue using total stay * adr\n",
        "\n",
        "hotel_booking[\"revenue\"]=hotel_booking[\"total_stay_in_nights\"]*hotel_booking[\"adr\"]"
      ],
      "metadata": {
        "id": "pXBhotvhqR6s"
      },
      "execution_count": null,
      "outputs": []
    },
    {
      "cell_type": "code",
      "source": [
        "#Also, for information, we will add a column with total number of guests coming for each booking\n",
        "\n",
        "hotel_booking[\"total_guests\"]=hotel_booking[\"adults\"]+hotel_booking[\"children\"]+hotel_booking[\"babies\"]"
      ],
      "metadata": {
        "id": "CncgkbglqsvM"
      },
      "execution_count": null,
      "outputs": []
    },
    {
      "cell_type": "markdown",
      "source": [
        "### What all manipulations have you done and insights you found?"
      ],
      "metadata": {
        "id": "MSa1f5Uengrz"
      }
    },
    {
      "cell_type": "markdown",
      "source": [
        "\n",
        "\n",
        "1.   **Dropping duplicates:**There were total number of duplicate values was 31994.So first we have dropped these duplicates to clean the data.Now number of rows are after removing duplicates are 87396.\n",
        "2.   **Handling Null Values:\"**children\",\"country\",\"agent\",and \"comapny\". These are the column with null values and dropping the company column as it hs highest null values.\n",
        "   *   Then replacing null values in agent column with 0 assuming those rooms were booked without company/agent.\n",
        "   *   Then i have filled null values in children column with 0 as there are only 4 missing values, assuming that family had 0 children.\n",
        "   *   Replacing null values in the country column with \"others\" to avoid confusion.\n",
        "3.   There are some rows with total number of adults,children or babies equal to zero, this means there is no any booking were made.So we have removed 166 rows having with 0 in adult,abies and children column\n",
        "4.   Children & agent column datatype was float but it contains only int value,so chnage datatype as int64.\n",
        "5.   For our understanding,in column \"is_canceled\" we will replace the value from(0,1) to not_canceled,is canceled and same done for \"is_repeated_guest\" column.\n",
        "6.   There are few columns required in data to analysis purpose which is created from the given columns.\n",
        "\n",
        "\n",
        "Total guests:This columns will help us to evaluate the volumes of total guest and revenue as well. We get this value by adding total no. of Adulta,Children & babies.\n",
        "\n",
        "Revenue:We find revenue by multiplying adr & total guest.This column will use to analyse the profit and growth of each hotel.\n",
        "\n",
        "\n",
        "\n",
        "\n",
        "\n",
        "\n",
        "\n"
      ],
      "metadata": {
        "id": "LbyXE7I1olp8"
      }
    },
    {
      "cell_type": "markdown",
      "source": [
        "## ***4. Data Vizualization, Storytelling & Experimenting with charts : Understand the relationships between variables***"
      ],
      "metadata": {
        "id": "GF8Ens_Soomf"
      }
    },
    {
      "cell_type": "markdown",
      "source": [
        "**UNIVARIATE ANALYSIS**"
      ],
      "metadata": {
        "id": "AWD3rUNW0jfE"
      }
    },
    {
      "cell_type": "markdown",
      "source": [
        "#### Chart - 1"
      ],
      "metadata": {
        "id": "0wOQAZs5pc--"
      }
    },
    {
      "cell_type": "markdown",
      "source": [
        "**which type of hotel is preffered by guests resort or city?**"
      ],
      "metadata": {
        "id": "Wp4ieiH81MTc"
      }
    },
    {
      "cell_type": "code",
      "source": [
        "#Count occurence of each hotel type in hotel column\n",
        "\n",
        "hotel_counts=hotel_booking[\"hotel\"].value_counts()\n",
        "\n"
      ],
      "metadata": {
        "id": "7v_ESjsspbW7"
      },
      "execution_count": null,
      "outputs": []
    },
    {
      "cell_type": "code",
      "source": [
        "#Visualize the data\n",
        "#Plot a pie chart\n",
        "\n",
        "plt.figure(figsize=(6,7))\n",
        "plt.pie(hotel_counts, labels=hotel_counts.index,autopct=\"%1.2f%%\", startangle=50, explode=[0.05, 0.05], textprops={\"fontsize\": 14})\n",
        "plt.title(\"Preference for hotel types\",fontsize=15, fontweight=\"bold\")\n",
        "plt.legend(title=\"Hotel Type\",bbox_to_anchor=(1.3,0.7))\n",
        "\n",
        "#Display the pie chart\n",
        "plt.show()"
      ],
      "metadata": {
        "id": "lYwaXTlb12Ya"
      },
      "execution_count": null,
      "outputs": []
    },
    {
      "cell_type": "markdown",
      "source": [
        "##### 1. Why did you pick the specific chart?"
      ],
      "metadata": {
        "id": "K5QZ13OEpz2H"
      }
    },
    {
      "cell_type": "markdown",
      "source": [
        "Pie chart helps in comparison of data and also it shows the fractional part of whole."
      ],
      "metadata": {
        "id": "XESiWehPqBRc"
      }
    },
    {
      "cell_type": "markdown",
      "source": [
        "##### 2. What is/are the insight(s) found from the chart?"
      ],
      "metadata": {
        "id": "lQ7QKXXCp7Bj"
      }
    },
    {
      "cell_type": "markdown",
      "source": [
        "We can clearly see from visualization that city hotel has higher of booking i.e 66.41% and resort hotel has 33.59% booking only."
      ],
      "metadata": {
        "id": "C_j1G7yiqdRP"
      }
    },
    {
      "cell_type": "markdown",
      "source": [
        "##### 3. Will the gained insights help creating a positive business impact?\n",
        "Are there any insights that lead to negative growth? Justify with specific reason."
      ],
      "metadata": {
        "id": "448CDAPjqfQr"
      }
    },
    {
      "cell_type": "markdown",
      "source": [
        "Gained sights helped in creating positive business impact as in city hotel it can provide more service to increase their revenue.In resort hotel it can improve their services to attract more customers."
      ],
      "metadata": {
        "id": "3cspy4FjqxJW"
      }
    },
    {
      "cell_type": "markdown",
      "source": [
        "#### Chart - 2"
      ],
      "metadata": {
        "id": "KSlN3yHqYklG"
      }
    },
    {
      "cell_type": "markdown",
      "source": [
        "**How many guests repeated?**"
      ],
      "metadata": {
        "id": "lyv-pKp08DZy"
      }
    },
    {
      "cell_type": "code",
      "source": [
        "#Count occurence of repeated and non-repeated in is_repeated_col\n",
        "\n",
        "guest_repeat=hotel_booking[\"is_repeated_guest\"].value_counts()"
      ],
      "metadata": {
        "id": "R4YgtaqtYklH"
      },
      "execution_count": null,
      "outputs": []
    },
    {
      "cell_type": "code",
      "source": [
        "#Visualize the data\n",
        "#Plot a pie chart\n",
        "\n",
        "plt.figure(figsize=(6,7))\n",
        "plt.pie(guest_repeat, labels=guest_repeat.index,autopct=\"%1.2f%%\", startangle=120, explode=[0.1, 0.1], textprops={\"fontsize\": 14})\n",
        "plt.title(\"Repeated Customer vs Non Repeated Customers\",fontsize=15, fontweight=\"bold\")\n",
        "plt.legend(title=\"Guest Repeated\",bbox_to_anchor=(1.3,0.7))\n",
        "\n",
        "#Display the pie chart\n",
        "plt.show()"
      ],
      "metadata": {
        "id": "RYWKtbJs8jS1"
      },
      "execution_count": null,
      "outputs": []
    },
    {
      "cell_type": "markdown",
      "source": [
        "##### 1. Why did you pick the specific chart?"
      ],
      "metadata": {
        "id": "t6dVpIINYklI"
      }
    },
    {
      "cell_type": "markdown",
      "source": [
        "To show the percentage share of repeated & non-repeated guests pie chart helps for comparision."
      ],
      "metadata": {
        "id": "5aaW0BYyYklI"
      }
    },
    {
      "cell_type": "markdown",
      "source": [
        "##### 2. What is/are the insight(s) found from the chart?"
      ],
      "metadata": {
        "id": "ijmpgYnKYklI"
      }
    },
    {
      "cell_type": "markdown",
      "source": [
        "The number of repeated guests is very less as compared to overall guets,its only 3.15%."
      ],
      "metadata": {
        "id": "PSx9atu2YklI"
      }
    },
    {
      "cell_type": "markdown",
      "source": [
        "##### 3. Will the gained insights help creating a positive business impact?\n",
        "Are there any insights that lead to negative growth? Justify with specific reason."
      ],
      "metadata": {
        "id": "-JiQyfWJYklI"
      }
    },
    {
      "cell_type": "markdown",
      "source": [
        "Taking feedback from guests so that hotel can improve their services.Giving seasonal discounts and offers,can attract non repeating customers to visit hotel again that will have positive impact on business."
      ],
      "metadata": {
        "id": "BcBbebzrYklV"
      }
    },
    {
      "cell_type": "markdown",
      "source": [
        "#### Chart - 3"
      ],
      "metadata": {
        "id": "EM7whBJCYoAo"
      }
    },
    {
      "cell_type": "markdown",
      "source": [
        "**What is the percentage of cancellation?**"
      ],
      "metadata": {
        "id": "ITQBCps9_ITL"
      }
    },
    {
      "cell_type": "code",
      "source": [
        "#Count of canceled and non-canceled bookings\n",
        "\n",
        "cancel_count=hotel_booking[\"is_canceled\"].value_counts()"
      ],
      "metadata": {
        "id": "t6GMdE67YoAp"
      },
      "execution_count": null,
      "outputs": []
    },
    {
      "cell_type": "code",
      "source": [
        "#Visualize the data\n",
        "#Plot a pie chart\n",
        "\n",
        "plt.figure(figsize=(6,7))\n",
        "plt.pie(cancel_count, labels=cancel_count.index,autopct=\"%1.2f%%\", startangle=50, explode=[0.02, 0.02], textprops={\"fontsize\": 14})\n",
        "plt.title(\"Cancellation by guests\",fontsize=15, fontweight=\"bold\")\n",
        "plt.legend()\n",
        "\n",
        "#Display the pie chart\n",
        "plt.show()"
      ],
      "metadata": {
        "id": "tPqGbYO7_o-7"
      },
      "execution_count": null,
      "outputs": []
    },
    {
      "cell_type": "markdown",
      "source": [
        "##### 1. Why did you pick the specific chart?"
      ],
      "metadata": {
        "id": "fge-S5ZAYoAp"
      }
    },
    {
      "cell_type": "markdown",
      "source": [
        "This chart prestents the cancellation rate of the hotels booking."
      ],
      "metadata": {
        "id": "5dBItgRVYoAp"
      }
    },
    {
      "cell_type": "markdown",
      "source": [
        "##### 2. What is/are the insight(s) found from the chart?"
      ],
      "metadata": {
        "id": "85gYPyotYoAp"
      }
    },
    {
      "cell_type": "markdown",
      "source": [
        "Guests who cancelled are around 37% and those who not cancelled are 63%."
      ],
      "metadata": {
        "id": "4jstXR6OYoAp"
      }
    },
    {
      "cell_type": "markdown",
      "source": [
        "##### 3. Will the gained insights help creating a positive business impact?\n",
        "Are there any insights that lead to negative growth? Justify with specific reason."
      ],
      "metadata": {
        "id": "RoGjAbkUYoAp"
      }
    },
    {
      "cell_type": "markdown",
      "source": [
        "Around 63% guests didn't cancel their booking sp,its a positive impact on hotel.Cancellation rate is 37%,from business persepective cancellation rate is quite high.We need to findout the reason of cancellation by taking feedback from guest."
      ],
      "metadata": {
        "id": "zfJ8IqMcYoAp"
      }
    },
    {
      "cell_type": "markdown",
      "source": [
        "#### Chart - 4"
      ],
      "metadata": {
        "id": "4Of9eVA-YrdM"
      }
    },
    {
      "cell_type": "markdown",
      "source": [
        "**Which type of food is mostly preferred by the guests?**"
      ],
      "metadata": {
        "id": "f6xFBQHdjFR2"
      }
    },
    {
      "cell_type": "code",
      "source": [
        "#Count occurences each meal type\n",
        "\n",
        "meal_count=hotel_booking[\"meal\"].value_counts()\n",
        "meal_count"
      ],
      "metadata": {
        "id": "irlUoxc8YrdO"
      },
      "execution_count": null,
      "outputs": []
    },
    {
      "cell_type": "code",
      "source": [
        "#Visualize the data\n",
        "\n",
        "plt.figure(figsize=(10,6))\n",
        "sns.countplot(x=\"meal\",data=hotel_booking,order=meal_count.index,hue=\"meal\",palette=\"muted\",legend=False)\n",
        "plt.title(\"Most preferred food\",fontsize=15,fontweight=\"bold\")\n",
        "plt.xlabel(\"Type of the food\",fontsize=15)\n",
        "plt.ylabel(\"Food type count\",fontsize=15)\n",
        "plt.show()"
      ],
      "metadata": {
        "id": "XNCebPaIju9V"
      },
      "execution_count": null,
      "outputs": []
    },
    {
      "cell_type": "markdown",
      "source": [
        "**Types of meal in hotels:\n",
        "BB-(Bed and Breakfast),HB-(Half Board),FB-(Full Board),SC-(Self Catering)**"
      ],
      "metadata": {
        "id": "4IgXZm_9nzvG"
      }
    },
    {
      "cell_type": "markdown",
      "source": [
        "##### 1. Why did you pick the specific chart?"
      ],
      "metadata": {
        "id": "iky9q4vBYrdO"
      }
    },
    {
      "cell_type": "markdown",
      "source": [
        "I have choose barchart to visualize most preferred food beacause it displays the count of each observation for each category and here we have to find which food is most preferred."
      ],
      "metadata": {
        "id": "aJRCwT6DYrdO"
      }
    },
    {
      "cell_type": "markdown",
      "source": [
        "##### 2. What is/are the insight(s) found from the chart?"
      ],
      "metadata": {
        "id": "F6T5p64dYrdO"
      }
    },
    {
      "cell_type": "markdown",
      "source": [
        "Bed and Breakfast is the most preferred food by 92310 guests.\n",
        "Self catering and Half board are equality preferred but very less in comparison to BB.\n",
        "Full Board is least preferred food i.e only 798 guest ordered it."
      ],
      "metadata": {
        "id": "Xx8WAJvtYrdO"
      }
    },
    {
      "cell_type": "markdown",
      "source": [
        "##### 3. Will the gained insights help creating a positive business impact?\n",
        "Are there any insights that lead to negative growth? Justify with specific reason."
      ],
      "metadata": {
        "id": "y-Ehk30pYrdP"
      }
    },
    {
      "cell_type": "markdown",
      "source": [
        "BB type of food is most preferred food this makes positive impact on business.Undefined and FB type of food is less preferred this insinght makes negative impact on business."
      ],
      "metadata": {
        "id": "jLNxxz7MYrdP"
      }
    },
    {
      "cell_type": "markdown",
      "source": [
        "#### Chart - 5"
      ],
      "metadata": {
        "id": "bamQiAODYuh1"
      }
    },
    {
      "cell_type": "markdown",
      "source": [
        "**What is most preferred room type by guests?**"
      ],
      "metadata": {
        "id": "McdMg_Irp-fo"
      }
    },
    {
      "cell_type": "code",
      "source": [
        "#Count of room type booked by guest\n",
        "\n",
        "room_count=hotel_booking[\"assigned_room_type\"].value_counts()\n",
        "room_count"
      ],
      "metadata": {
        "id": "TIJwrbroYuh3"
      },
      "execution_count": null,
      "outputs": []
    },
    {
      "cell_type": "code",
      "source": [
        "#Visualize the data\n",
        "\n",
        "plt.figure(figsize=(10,6))\n",
        "sns.countplot(x=\"assigned_room_type\",data=hotel_booking,order=room_count.index,hue=\"assigned_room_type\",palette=\"muted\",legend=False)\n",
        "plt.title(\"Most preferred room type\",fontsize=15,fontweight=\"bold\")\n",
        "plt.xlabel(\"Type of the room\",fontsize=15)\n",
        "plt.ylabel(\"Room type count\",fontsize=15)\n",
        "plt.show()"
      ],
      "metadata": {
        "id": "BQNkVCJ5qbTJ"
      },
      "execution_count": null,
      "outputs": []
    },
    {
      "cell_type": "markdown",
      "source": [
        "##### 1. Why did you pick the specific chart?"
      ],
      "metadata": {
        "id": "QHF8YVU7Yuh3"
      }
    },
    {
      "cell_type": "markdown",
      "source": [
        "I have choose countplot to visualize most preferred room type beacause countplot display the count of each observation for each category and here we have to represent room type vs room type count."
      ],
      "metadata": {
        "id": "dcxuIMRPYuh3"
      }
    },
    {
      "cell_type": "markdown",
      "source": [
        "##### 2. What is/are the insight(s) found from the chart?"
      ],
      "metadata": {
        "id": "GwzvFGzlYuh3"
      }
    },
    {
      "cell_type": "markdown",
      "source": [
        "The insights found from the chart is A type rooms are most preferred rooms and the count is 74053 and after that D type rooms are preferred by the guest and count is 25322.\n",
        "\n",
        "Least preferred room is P and L type room is preferred by only 12 and only 1 guest has booked L type room."
      ],
      "metadata": {
        "id": "uyqkiB8YYuh3"
      }
    },
    {
      "cell_type": "markdown",
      "source": [
        "##### 3. Will the gained insights help creating a positive business impact?\n",
        "Are there any insights that lead to negative growth? Justify with specific reason."
      ],
      "metadata": {
        "id": "qYpmQ266Yuh3"
      }
    },
    {
      "cell_type": "markdown",
      "source": [
        "A type rooms are most preferred rooms.This make positive impact on business.H,I,K,L,P type rooms are less preferred this insight makes negative impact.This is beacause type A rooms have 74053 booking and type L room has only one booking."
      ],
      "metadata": {
        "id": "_WtzZ_hCYuh4"
      }
    },
    {
      "cell_type": "markdown",
      "source": [
        "#### Chart - 6"
      ],
      "metadata": {
        "id": "OH-pJp9IphqM"
      }
    },
    {
      "cell_type": "markdown",
      "source": [
        "**Which agent made the most bookings?**"
      ],
      "metadata": {
        "id": "VxVAPJQct4-F"
      }
    },
    {
      "cell_type": "code",
      "source": [
        "#Count top 10 agent with most bookings\n",
        "\n",
        "top_agent=hotel_booking[\"agent\"].value_counts().reset_index().rename(columns={\"index\":\"agent\",\"count\":\"num_of_bookings\"})[:10]\n",
        "\n",
        "#Rename column name for better understanding\n",
        "top_agent"
      ],
      "metadata": {
        "id": "kuRf4wtuphqN"
      },
      "execution_count": null,
      "outputs": []
    },
    {
      "cell_type": "code",
      "source": [
        "#Visualize the data\n",
        "\n",
        "plt.figure(figsize=(10,7))\n",
        "sns.countplot(x=\"agent\",data=hotel_booking,order=top_agent[\"agent\"],hue=\"agent\",palette=\"muted\",legend=False)\n",
        "\n",
        "plt.title(\"Top 10 agents with most bookings\",fontsize=15,fontweight=\"bold\")\n",
        "plt.ylabel(\"Number of bookings\",fontsize=15)\n",
        "plt.xlabel(\"Agent number\",fontsize=15)\n",
        "\n",
        "plt.show()"
      ],
      "metadata": {
        "id": "SPgRKZalwIh5"
      },
      "execution_count": null,
      "outputs": []
    },
    {
      "cell_type": "markdown",
      "source": [
        "##### 1. Why did you pick the specific chart?"
      ],
      "metadata": {
        "id": "bbFf2-_FphqN"
      }
    },
    {
      "cell_type": "markdown",
      "source": [
        "I choose barplot here beacuse it gives data visualization in pictorial from and due to this comparison of data is easy."
      ],
      "metadata": {
        "id": "loh7H2nzphqN"
      }
    },
    {
      "cell_type": "markdown",
      "source": [
        "##### 2. What is/are the insight(s) found from the chart?"
      ],
      "metadata": {
        "id": "_ouA3fa0phqN"
      }
    },
    {
      "cell_type": "markdown",
      "source": [
        "The insight found here is Agent no.9 made most of the bookings."
      ],
      "metadata": {
        "id": "VECbqPI7phqN"
      }
    },
    {
      "cell_type": "markdown",
      "source": [
        "##### 3. Will the gained insights help creating a positive business impact?\n",
        "Are there any insights that lead to negative growth? Justify with specific reason."
      ],
      "metadata": {
        "id": "Seke61FWphqN"
      }
    },
    {
      "cell_type": "markdown",
      "source": [
        "\n",
        "\n",
        "*   Yes,Agent 9,240 has more bookings which makes positive impact.\n",
        "*   Agent no. 28,8 has less bookings which makes negative impact.\n",
        "\n"
      ],
      "metadata": {
        "id": "DW4_bGpfphqN"
      }
    },
    {
      "cell_type": "markdown",
      "source": [
        "#### Chart - 7"
      ],
      "metadata": {
        "id": "PIIx-8_IphqN"
      }
    },
    {
      "cell_type": "markdown",
      "source": [
        "**From which country most of the guests are coming?**"
      ],
      "metadata": {
        "id": "mTyb-rgLzbtJ"
      }
    },
    {
      "cell_type": "code",
      "source": [
        "#Count occurrences of top 10 country in the country column\n",
        "\n",
        "top_ten_country=hotel_booking[\"country\"].value_counts().reset_index()[:10]\n",
        "top_ten_country"
      ],
      "metadata": {
        "id": "lqAIGUfyphqO"
      },
      "execution_count": null,
      "outputs": []
    },
    {
      "cell_type": "code",
      "source": [
        "#Visualizing by plotting the graph\n",
        "\n",
        "plt.figure(figsize=(10,6))\n",
        "sns.barplot(x=\"country\",y=\"count\",data=top_ten_country,palette=\"muted\",hue=\"country\",dodge=False)\n",
        "plt.legend([],[],frameon=False) #Disable the legend\n",
        "plt.xlabel(\"country\",fontsize=12)\n",
        "plt.ylabel(\"Number of guests\",fontsize=12)\n",
        "plt.title(\"Top 10 countries by guests \",fontsize=15,fontweight=\"bold\")\n",
        "plt.show()"
      ],
      "metadata": {
        "id": "0Fozh0lf0Zlw"
      },
      "execution_count": null,
      "outputs": []
    },
    {
      "cell_type": "markdown",
      "source": [
        "##### 1. Why did you pick the specific chart?"
      ],
      "metadata": {
        "id": "t27r6nlMphqO"
      }
    },
    {
      "cell_type": "markdown",
      "source": [
        "Bar plots are effective for comparing numerical values,such as the number of guests in this case."
      ],
      "metadata": {
        "id": "iv6ro40sphqO"
      }
    },
    {
      "cell_type": "markdown",
      "source": [
        "##### 2. What is/are the insight(s) found from the chart?"
      ],
      "metadata": {
        "id": "r2jJGEOYphqO"
      }
    },
    {
      "cell_type": "markdown",
      "source": [
        "Most of the guests are coming from portrugal i.e 48590 guests are from portugal."
      ],
      "metadata": {
        "id": "Po6ZPi4hphqO"
      }
    },
    {
      "cell_type": "markdown",
      "source": [
        "##### 3. Will the gained insights help creating a positive business impact?\n",
        "Are there any insights that lead to negative growth? Justify with specific reason."
      ],
      "metadata": {
        "id": "b0JNsNcRphqO"
      }
    },
    {
      "cell_type": "markdown",
      "source": [
        "This data can be used for attracting the remaining people of portugal and other neighbouring countries,some schemes may be introduced or social media awareness,advertising may be increased to get more customers from nearby areas.\n",
        "\n",
        "Feedback gathered from these guests may be  used to increase guests from other countries too and strategies may be planned according to this.\n",
        "\n",
        "ABBREVATIONS FOR COUNTRIES-.<br>\n",
        "PRT-Portugal.<br>\n",
        "GBR-United Kingdom.<br>\n",
        "FRA-France.<br>\n",
        "ESP-Spain.<br>\n",
        "DEU-Germany.<br>\n",
        "ITA-Italy.<br>\n",
        "IRL-Ireland.<br>\n",
        "BEL-Belgium.<br>\n",
        "BRA-Brazil.<br>\n",
        "NLD-Netherlands.<br>"
      ],
      "metadata": {
        "id": "xvSq8iUTphqO"
      }
    },
    {
      "cell_type": "markdown",
      "source": [
        "#### Chart - 8"
      ],
      "metadata": {
        "id": "BZR9WyysphqO"
      }
    },
    {
      "cell_type": "markdown",
      "source": [
        "**Which distribution channel is mostly used for hotel booking?**"
      ],
      "metadata": {
        "id": "Xp8vYuRP--rm"
      }
    },
    {
      "cell_type": "code",
      "source": [
        "#Count of occurrence of each distribution channel\n",
        "\n",
        "distribution_channel=hotel_booking[\"distribution_channel\"].value_counts()\n",
        "distribution_channel"
      ],
      "metadata": {
        "id": "TdPTWpAVphqO"
      },
      "execution_count": null,
      "outputs": []
    },
    {
      "cell_type": "code",
      "source": [
        "#Visualization\n",
        "\n",
        "plt.figure(figsize=(10,7))\n",
        "sns.countplot(x=\"distribution_channel\",data=hotel_booking,order=distribution_channel.index,hue=\"distribution_channel\",palette=\"muted\",legend=False)\n",
        "plt.title(\"Mostly used distribution channels\",fontsize=15)\n",
        "plt.xlabel(\"Distribution channel\",fontsize=15)\n",
        "plt.ylabel(\"Count of booking by distribution channel\",fontsize=15)\n",
        "plt.show()"
      ],
      "metadata": {
        "id": "vp0jpWhc_nYd"
      },
      "execution_count": null,
      "outputs": []
    },
    {
      "cell_type": "markdown",
      "source": [
        "##### 1. Why did you pick the specific chart?"
      ],
      "metadata": {
        "id": "jj7wYXLtphqO"
      }
    },
    {
      "cell_type": "markdown",
      "source": [
        "The following chart represent maximum volume of booking done through which channel to represent the number in descending order."
      ],
      "metadata": {
        "id": "Ob8u6rCTphqO"
      }
    },
    {
      "cell_type": "markdown",
      "source": [
        "##### 2. What is/are the insight(s) found from the chart?"
      ],
      "metadata": {
        "id": "eZrbJ2SmphqO"
      }
    },
    {
      "cell_type": "markdown",
      "source": [
        "Mostly used distribution channel is TA/TO channel.The total count of bokking is 97870."
      ],
      "metadata": {
        "id": "mZtgC_hjphqO"
      }
    },
    {
      "cell_type": "markdown",
      "source": [
        "##### 3. Will the gained insights help creating a positive business impact?\n",
        "Are there any insights that lead to negative growth? Justify with specific reason."
      ],
      "metadata": {
        "id": "rFu4xreNphqO"
      }
    },
    {
      "cell_type": "markdown",
      "source": [
        "\n",
        "\n",
        "*   Distribution channel TA/TO is mostly used channel this makes positive impact.\n",
        "*   Distribution channel GDS and undefined is less used channels this makes negative impact.\n",
        "*   Use of TA/TO is approx 80%.\n",
        "*   Other channels can provide those facilities which are provided by TA/TO channel.\n",
        "\n",
        "\n",
        "\n"
      ],
      "metadata": {
        "id": "ey_0qi68phqO"
      }
    },
    {
      "cell_type": "markdown",
      "source": [
        "**BIVARIATE ANALYSIS AND MULTIVARIATE ANALYSIS**"
      ],
      "metadata": {
        "id": "A2VpuAp6ClWa"
      }
    },
    {
      "cell_type": "markdown",
      "source": [
        "#### Chart - 9"
      ],
      "metadata": {
        "id": "YJ55k-q6phqO"
      }
    },
    {
      "cell_type": "markdown",
      "source": [
        "**Which year has highest number of booking?**"
      ],
      "metadata": {
        "id": "Xr2x9Tm9IsvI"
      }
    },
    {
      "cell_type": "code",
      "source": [
        "#Set plot size\n",
        "\n",
        "plt.figure(figsize=(10,8))\n",
        "\n",
        "#plot with countplot\n",
        "\n",
        "sns.countplot(x=hotel_booking[\"arrival_date_year\"],hue=hotel_booking[\"hotel\"])\n",
        "plt.title(\"Year wise bookings\")\n",
        "plt.show()"
      ],
      "metadata": {
        "id": "B2aS4O1ophqO"
      },
      "execution_count": null,
      "outputs": []
    },
    {
      "cell_type": "markdown",
      "source": [
        "##### 1. Why did you pick the specific chart?"
      ],
      "metadata": {
        "id": "gCFgpxoyphqP"
      }
    },
    {
      "cell_type": "markdown",
      "source": [
        "Because countplot is easy to understand."
      ],
      "metadata": {
        "id": "TVxDimi2phqP"
      }
    },
    {
      "cell_type": "markdown",
      "source": [
        "##### 2. What is/are the insight(s) found from the chart?"
      ],
      "metadata": {
        "id": "OVtJsKN_phqQ"
      }
    },
    {
      "cell_type": "markdown",
      "source": [
        "2016 had highest bookings and 2015 had lowest bookings."
      ],
      "metadata": {
        "id": "ngGi97qjphqQ"
      }
    },
    {
      "cell_type": "markdown",
      "source": [
        "##### 3. Will the gained insights help creating a positive business impact?\n",
        "Are there any insights that lead to negative growth? Justify with specific reason."
      ],
      "metadata": {
        "id": "lssrdh5qphqQ"
      }
    },
    {
      "cell_type": "markdown",
      "source": [
        "For resort hotel in year 2015 it was with least number of bokkings and in 2016 it increased but in 2017 it again decreased,it means they have to find out the reasons for this using feedback of guest.For city hotel in year 2015 it was the lowest and in 2016 it was on peak and again and agin it drecreased in booking in 2017."
      ],
      "metadata": {
        "id": "tBpY5ekJphqQ"
      }
    },
    {
      "cell_type": "markdown",
      "source": [
        "#### Chart - 10"
      ],
      "metadata": {
        "id": "U2RJ9gkRphqQ"
      }
    },
    {
      "cell_type": "markdown",
      "source": [
        "**What is ADR across different months?**"
      ],
      "metadata": {
        "id": "3GkXA_GFFJiM"
      }
    },
    {
      "cell_type": "code",
      "source": [
        "#Using groupby function\n",
        "bookings_by_months_df=hotel_booking.groupby([\"arrival_date_month\",\"hotel\"])[\"adr\"].mean().reset_index()\n",
        "\n",
        "\n",
        "#Create month list\n",
        "months=[\"January\",\"February\",\"March\",\"April\",\"May\",\"June\",\"July\",\"August\",\"September\",\"October\",\"November\",\"December\"]\n",
        "\n",
        "#It will take the order of the month list in the dataframe along with values\n",
        "bookings_by_months_df[\"arrival_date_month\"]=pd.Categorical(bookings_by_months_df[\"arrival_date_month\"],categories=months,ordered=True)\n",
        "\n",
        "#Sorting values\n",
        "bookings_by_months_df=bookings_by_months_df.sort_values(\"arrival_date_month\")"
      ],
      "metadata": {
        "id": "GM7a4YP4phqQ"
      },
      "execution_count": null,
      "outputs": []
    },
    {
      "cell_type": "code",
      "source": [
        "#Setting the chart size\n",
        "plt.figure(figsize=(10,5))\n",
        "\n",
        "#Plotting the values in a line chart\n",
        "sns.lineplot(x=bookings_by_months_df[\"arrival_date_month\"],y=bookings_by_months_df[\"adr\"],hue=bookings_by_months_df[\"hotel\"])\n",
        "\n",
        "#Setting the labels and title\n",
        "plt.title(\"ADR across each month\",fontsize=20)\n",
        "plt.xlabel(\"Month Name\",fontsize=12)\n",
        "plt.ylabel(\"ADR\",fontsize=12)\n",
        "\n",
        "plt.show()"
      ],
      "metadata": {
        "id": "fruQnmeQHRKR"
      },
      "execution_count": null,
      "outputs": []
    },
    {
      "cell_type": "markdown",
      "source": [
        "##### 1. Why did you pick the specific chart?"
      ],
      "metadata": {
        "id": "1M8mcRywphqQ"
      }
    },
    {
      "cell_type": "markdown",
      "source": [
        "I have used line plot in this case beacuse it effectively shows the trend of ADR over time."
      ],
      "metadata": {
        "id": "8agQvks0phqQ"
      }
    },
    {
      "cell_type": "markdown",
      "source": [
        "##### 2. What is/are the insight(s) found from the chart?"
      ],
      "metadata": {
        "id": "tgIPom80phqQ"
      }
    },
    {
      "cell_type": "markdown",
      "source": [
        "City Hotel:It is clear that City Hotel generates more revenue in May months in comparison to other months.\n",
        "Resort Hotel:Resort Hotel generates more revenue in between july and august months."
      ],
      "metadata": {
        "id": "Qp13pnNzphqQ"
      }
    },
    {
      "cell_type": "markdown",
      "source": [
        "##### 3. Will the gained insights help creating a positive business impact?\n",
        "Are there any insights that lead to negative growth? Justify with specific reason."
      ],
      "metadata": {
        "id": "JMzcOPDDphqR"
      }
    },
    {
      "cell_type": "markdown",
      "source": [
        "With the knowledge that City Hotel generates more revenue in May and Resort Hotel generates more revenue between July and August,hotels can focus marketing,promotions,and special offer to attract mpore guests during these peak months."
      ],
      "metadata": {
        "id": "R4Ka1PC2phqR"
      }
    },
    {
      "cell_type": "markdown",
      "source": [
        "#### Chart - 11"
      ],
      "metadata": {
        "id": "x-EpHcCOp1ci"
      }
    },
    {
      "cell_type": "markdown",
      "source": [
        "**Which month has the most bookings in each hotel type?**"
      ],
      "metadata": {
        "id": "XCoEUF_yr7IZ"
      }
    },
    {
      "cell_type": "code",
      "source": [
        "#Visualization code\n",
        "\n",
        "plt.figure(figsize=(15,5))\n",
        "sns.countplot(x=hotel_booking[\"arrival_date_month\"],hue=hotel_booking[\"hotel\"])\n",
        "plt.title(\"Number of booking across months\",fontsize=25)\n",
        "plt.show()"
      ],
      "metadata": {
        "id": "mAQTIvtqp1cj"
      },
      "execution_count": null,
      "outputs": []
    },
    {
      "cell_type": "markdown",
      "source": [
        "##### 1. Why did you pick the specific chart?"
      ],
      "metadata": {
        "id": "X_VqEhTip1ck"
      }
    },
    {
      "cell_type": "markdown",
      "source": [
        "Count plots are used when you want to compare the counts of differnt categories. In this case,it allows us to visually compare the number of bookings made for each month by hotel type."
      ],
      "metadata": {
        "id": "-vsMzt_np1ck"
      }
    },
    {
      "cell_type": "markdown",
      "source": [
        "##### 2. What is/are the insight(s) found from the chart?"
      ],
      "metadata": {
        "id": "8zGJKyg5p1ck"
      }
    },
    {
      "cell_type": "markdown",
      "source": [
        "The highest number of bookings appear to be in july and august. Lowest booking months:December,January and February appear to be the months with the fewest bookings."
      ],
      "metadata": {
        "id": "ZYdMsrqVp1ck"
      }
    },
    {
      "cell_type": "markdown",
      "source": [
        "##### 3. Will the gained insights help creating a positive business impact?\n",
        "Are there any insights that lead to negative growth? Justify with specific reason."
      ],
      "metadata": {
        "id": "PVzmfK_Ep1ck"
      }
    },
    {
      "cell_type": "markdown",
      "source": [
        "There is negative insight but hotel can use this insight to arrange everything in advance and welcome their guest in the best way possible and hotel can also run some promotional offer in these 2 months to attract more guests."
      ],
      "metadata": {
        "id": "druuKYZpp1ck"
      }
    },
    {
      "cell_type": "markdown",
      "source": [
        "#### Chart - 12"
      ],
      "metadata": {
        "id": "n3dbpmDWp1ck"
      }
    },
    {
      "cell_type": "markdown",
      "source": [
        "**Which distribution channel has highest adr?**"
      ],
      "metadata": {
        "id": "FEadSIE5uogk"
      }
    },
    {
      "cell_type": "code",
      "source": [
        "#Grouping dist_channel and hotels on their adr\n",
        "\n",
        "distribution_channel=hotel_booking.groupby([\"distribution_channel\",\"hotel\"])[\"adr\"].mean().reset_index()\n",
        "\n",
        "#Visualization by using barplot\n",
        "sns.barplot(x=\"distribution_channel\",y=\"adr\",data=distribution_channel,hue=\"hotel\")\n",
        "plt.title(\"ADR across distribution channel\",fontsize=20)\n",
        "plt.xlabel(\"Distribution channel\",fontsize=15)\n",
        "plt.ylabel(\"ADR\",fontsize=15)\n",
        "dist_channel_adr=hotel_booking.groupby([\"distribution_channel\",\"hotel\"])[\"adr\"].mean().reset_index()\n",
        "\n"
      ],
      "metadata": {
        "id": "bwevp1tKp1ck"
      },
      "execution_count": null,
      "outputs": []
    },
    {
      "cell_type": "markdown",
      "source": [
        "##### 1. Why did you pick the specific chart?"
      ],
      "metadata": {
        "id": "ylSl6qgtp1ck"
      }
    },
    {
      "cell_type": "markdown",
      "source": [
        "I use here barplot to visualise ADR across distribution channel beacuse it give easy to understand visualization to large data."
      ],
      "metadata": {
        "id": "m2xqNkiQp1ck"
      }
    },
    {
      "cell_type": "markdown",
      "source": [
        "##### 2. What is/are the insight(s) found from the chart?"
      ],
      "metadata": {
        "id": "ZWILFDl5p1ck"
      }
    },
    {
      "cell_type": "markdown",
      "source": [
        "The insinght find from the above chart is that GDS channel contributed most in ADR in city hotel and Direct and TA/TO has nearly equal contribution in adr in both hotel types."
      ],
      "metadata": {
        "id": "x-lUsV2mp1ck"
      }
    },
    {
      "cell_type": "markdown",
      "source": [
        "##### 3. Will the gained insights help creating a positive business impact?\n",
        "Are there any insights that lead to negative growth? Justify with specific reason."
      ],
      "metadata": {
        "id": "M7G43BXep1ck"
      }
    },
    {
      "cell_type": "markdown",
      "source": [
        "\n",
        "\n",
        "*   GDS distribution channel contributed more to adr for city hotel.\n",
        "*   Undefined distribution channel contributed more to adr for resort hotel this makes positive impact.\n",
        "*   GDS distribution channel has no any contribution to adr for resort hotel and undfeined distribution channel contributed less to adr for city hotel his makes negative impact.\n",
        "\n",
        "\n",
        "\n"
      ],
      "metadata": {
        "id": "5wwDJXsLp1cl"
      }
    },
    {
      "cell_type": "markdown",
      "source": [
        "#### Chart - 13"
      ],
      "metadata": {
        "id": "Ag9LCva-p1cl"
      }
    },
    {
      "cell_type": "markdown",
      "source": [
        "**How does lead time vary across differnt hotel types?**"
      ],
      "metadata": {
        "id": "BU7sJL58zTIU"
      }
    },
    {
      "cell_type": "code",
      "source": [
        "#Visualization code\n",
        "\n",
        "sns.boxplot(data=hotel_booking,x=\"hotel\",y=\"lead_time\")\n",
        "plt.xlabel(\"Hotel Type\")\n",
        "plt.ylabel(\"Lead Time\")\n",
        "plt.title(\"Lead Time Variation Across Hotel Types\")\n",
        "plt.show()"
      ],
      "metadata": {
        "id": "EUfxeq9-p1cl"
      },
      "execution_count": null,
      "outputs": []
    },
    {
      "cell_type": "markdown",
      "source": [
        "##### 1. Why did you pick the specific chart?"
      ],
      "metadata": {
        "id": "E6MkPsBcp1cl"
      }
    },
    {
      "cell_type": "markdown",
      "source": [
        "The boxplot chart illustrates the variation in lead time the duration between booking and arrival across different hotel types."
      ],
      "metadata": {
        "id": "V22bRsFWp1cl"
      }
    },
    {
      "cell_type": "markdown",
      "source": [
        "##### 2. What is/are the insight(s) found from the chart?"
      ],
      "metadata": {
        "id": "2cELzS2fp1cl"
      }
    },
    {
      "cell_type": "markdown",
      "source": [
        "The box plot compares the lead time (How Far In Advance People Book) for Resort Hotels and City Hotels.It shows that Resort Hotels generally have a longer lead time,with more booking made far in advance.The median lead time (The Middle Value) is higher for Resort Hotels compared to City Hotels.Additionally,Resort Hotels have more extreme outliers,indicating that some bookings are made very far in advance.This suggest that guests tend to plan their stays at Resort Hotels earlier than those at City Resort."
      ],
      "metadata": {
        "id": "ozQPc2_Ip1cl"
      }
    },
    {
      "cell_type": "markdown",
      "source": [
        "##### 3. Will the gained insights help creating a positive business impact?\n",
        "Are there any insights that lead to negative growth? Justify with specific reason."
      ],
      "metadata": {
        "id": "3MPXvC8up1cl"
      }
    },
    {
      "cell_type": "markdown",
      "source": [
        "By understanding the average lead time for different hotel types,The busniess can communicate realistic expectations to guests,especially regarding the time required for booking confirmation and preparation before arrival."
      ],
      "metadata": {
        "id": "GL8l1tdLp1cl"
      }
    },
    {
      "cell_type": "markdown",
      "source": [
        "#### Chart - 14 - Correlation Heatmap"
      ],
      "metadata": {
        "id": "NC_X3p0fY2L0"
      }
    },
    {
      "cell_type": "code",
      "source": [
        "# Correlation Heatmap visualization code\n",
        "\n",
        "numeric_columns=hotel_booking.select_dtypes(include=[\"int64\",\"float64\"]).columns\n",
        "\n",
        "#Calculating the correlation matrix\n",
        "correlation_matrix=hotel_booking[numeric_columns].corr()\n",
        "\n",
        "#Plotting the heatmap\n",
        "plt.figure(figsize=(12,8))\n",
        "sns.heatmap(correlation_matrix,annot=True,fmt=\".2f\",cmap=\"coolwarm\",linewidths=0.5)\n",
        "plt.title(\"Correlation Heatmap\")\n",
        "plt.show()"
      ],
      "metadata": {
        "id": "xyC9zolEZNRQ"
      },
      "execution_count": null,
      "outputs": []
    },
    {
      "cell_type": "markdown",
      "source": [
        "##### 1. Why did you pick the specific chart?"
      ],
      "metadata": {
        "id": "UV0SzAkaZNRQ"
      }
    },
    {
      "cell_type": "markdown",
      "source": [
        "I choose a heatmap to visualize the correlation matrix beacause it is effective way to represent the relationships between multiple numeric variables in a dataset.Heatmaps provide a clear,intuitive visual representation of how variables correlate with each other,with color gradients indicating the strength and direction (positive or negative) of these correlations."
      ],
      "metadata": {
        "id": "DVPuT8LYZNRQ"
      }
    },
    {
      "cell_type": "markdown",
      "source": [
        "##### 2. What is/are the insight(s) found from the chart?"
      ],
      "metadata": {
        "id": "YPEH6qLeZNRQ"
      }
    },
    {
      "cell_type": "markdown",
      "source": [
        "There appears to be a positive correlation between \"total_stay_in_nights\" and \"revenue\".This means that the higher the number of nights a guest stays,the higher the revenue generated by the hotel.There is also a positive correlation between \"total_guest\" and \"total_stay_in_nights\" and \"revenue\".So,bookings with more guests and a longer duration tend to generate more revenue for the hotel."
      ],
      "metadata": {
        "id": "bfSqtnDqZNRR"
      }
    },
    {
      "cell_type": "markdown",
      "source": [
        "#### Chart - 15 - Pair Plot"
      ],
      "metadata": {
        "id": "q29F0dvdveiT"
      }
    },
    {
      "cell_type": "code",
      "source": [
        "# Pair Plot visualization code\n",
        "\n",
        "plt.figure(figsize=(10,8))\n",
        "sns.set_style(\"whitegrid\")\n",
        "sns.pairplot(data=hotel_booking[hotel_booking[\"adr\"]<500][[\"hotel\",\"adr\",\"total_guests\"]],height=3,aspect=0.8,hue=\"hotel\")\n",
        "plt.show()"
      ],
      "metadata": {
        "id": "o58-TEIhveiU"
      },
      "execution_count": null,
      "outputs": []
    },
    {
      "cell_type": "markdown",
      "source": [
        "##### 1. Why did you pick the specific chart?"
      ],
      "metadata": {
        "id": "EXh0U9oCveiU"
      }
    },
    {
      "cell_type": "markdown",
      "source": [
        "A pairs plot allows us to see both distribution of single variables and relationship between teo variables.It is also a great method to identify trends for follow-up analysis."
      ],
      "metadata": {
        "id": "eMmPjTByveiU"
      }
    },
    {
      "cell_type": "markdown",
      "source": [
        "##### 2. What is/are the insight(s) found from the chart?"
      ],
      "metadata": {
        "id": "22aHeOlLveiV"
      }
    },
    {
      "cell_type": "markdown",
      "source": [
        "It appears that there might be a week positive correlation between the ADR and the total number of guests.This means that hotels with a higher ADR tend to have a slightly higher number of guests.However,It's important to note that the correlation is weak,and there is a lot of variability in the data.\n",
        "\n",
        "We can also see that there seems to be a difference in the distribution of ADR  between resort hotels can city hotels.The histogram of the ADR for resort hotels (Blue) appears to be shifted to the right compared to the histogram of the ADR for city hotels (Orange).This suggests that resort hotels tend to have a higher ADR than city hotels."
      ],
      "metadata": {
        "id": "uPQ8RGwHveiV"
      }
    },
    {
      "cell_type": "markdown",
      "source": [
        "## **5. Solution to Business Objective**"
      ],
      "metadata": {
        "id": "JcMwzZxoAimU"
      }
    },
    {
      "cell_type": "markdown",
      "source": [
        "#### What do you suggest the client to achieve Business Objective ?\n",
        "Explain Briefly."
      ],
      "metadata": {
        "id": "8G2x9gOozGDZ"
      }
    },
    {
      "cell_type": "markdown",
      "source": [
        "**Reasons for booking cancellations:**\n",
        "\n",
        "They look at reasons like plans changing,finding better deals somewhere else,or not liking something about the booking.By asking guests directly through survwys,hotels can learn exactly why people cancel.this helps hotels make changes to keep more bookings and make guests happier.\n",
        "\n",
        "**Best time to book hotel:**\n",
        "They look at when people book and how early they do it.By using data to predict when more people will want to book,hotels can change prices to attract more guests.They also offer discounts and deals at times fewer people usually book to get more guests to come.\n",
        "\n",
        "**Peak seasons:**\n",
        "By knowing this,hotels can plan better to have enough staff and rooms available when lots of people want to stay.They also advertise more during these busy times to make more money.\n",
        "\n",
        "**Suggestions to reduce cancellations:**\n",
        "Hotels can do things to amke fewer people cancel their bookings.They can let guests change or cancel their bookings easily withoit extra fees.Hotels also need to coummunicate well with guests before and after they book to make sure guests know what to expect.This hlps guests feel more comfortable and less likely to cancel.\n",
        "\n",
        "**Increase revenue of hotels:**\n",
        "They do this changing room prices based on how many people want to stay and what other hotels are doing.Hotels also try to sell more things to guests like upgraded rooms or special packages.By working with local businesses,hotels can offer unique deals that attract more guests and make more money."
      ],
      "metadata": {
        "id": "pASKb0qOza21"
      }
    },
    {
      "cell_type": "markdown",
      "source": [
        "# **Conclusion**"
      ],
      "metadata": {
        "id": "gCX9965dhzqZ"
      }
    },
    {
      "cell_type": "markdown",
      "source": [
        "**These are some conclusion that we get after performing EDA.**\n"
      ],
      "metadata": {
        "id": "Fjb1IsQkh3yE"
      }
    },
    {
      "cell_type": "markdown",
      "source": [
        "*   City hotel is mostly preferred hotel by guests.\n",
        "*   Percentage of repeated guest is less which is 3.19%.\n",
        "*   Cancellation rate is 37.04%.\n",
        "*   MOstly preferred food type is BB type food.\n",
        "*   Room type A is mostly preferred room type.\n",
        "*   Agent no.9 made the most bookings.\n",
        "*   Most guests are coming from portugal.\n",
        "*   TA/TO distribution channel is mostle used and percentage is 79.13%.\n",
        "*   For year 2016 highest bookings were there for both city and resort hotel.\n",
        "*   City hotel generates more revenue in May and Resort Hotel generates more revenue between July and August.\n",
        "*   GDS channel contributed most in ADR in city hotel and Direct and TA/TO has nearly equal contribution in adr in both hotel types.\n",
        "\n",
        "\n",
        "\n",
        "\n",
        "\n",
        "\n",
        "\n",
        "\n",
        "\n",
        "\n",
        "\n",
        "\n",
        "\n"
      ],
      "metadata": {
        "id": "k6tkt_WWGef7"
      }
    },
    {
      "cell_type": "markdown",
      "source": [
        "### ***Hurrah! You have successfully completed your EDA Capstone Project !!!***"
      ],
      "metadata": {
        "id": "gIfDvo9L0UH2"
      }
    }
  ]
}